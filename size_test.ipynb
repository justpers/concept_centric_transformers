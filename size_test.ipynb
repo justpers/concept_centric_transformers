{
 "cells": [
  {
   "cell_type": "code",
   "execution_count": 1,
   "metadata": {},
   "outputs": [
    {
     "name": "stdout",
     "output_type": "stream",
     "text": [
      "전체 이미지 수: 812\n",
      "  • 최소 크기:  329×299\n",
      "  • 최대 크기:  611×475\n",
      "  • 224px 미만 이미지 수: 0\n",
      "\n",
      "해상도 빈도 상위 10개:\n",
      "  512×384: 641장\n",
      "  468×406: 2장\n",
      "  491×401: 1장\n",
      "  511×368: 1장\n",
      "  444×384: 1장\n",
      "  471×385: 1장\n",
      "  435×346: 1장\n",
      "  483×410: 1장\n",
      "  432×375: 1장\n",
      "  487×427: 1장\n",
      "\n",
      "small_images.txt 에 224 미만 이미지 경로 저장 완료\n"
     ]
    }
   ],
   "source": [
    "import os, glob\n",
    "from collections import Counter\n",
    "from PIL import Image\n",
    "\n",
    "root = \"./embryo\"          # 데이터셋 루트 경로\n",
    "exts = (\"*.png\", \"*.jpg\", \"*.jpeg\", \"*.bmp\")\n",
    "\n",
    "sizes = []                 # (width, height) 튜플 저장\n",
    "small_files = []           # 224 미만인 파일 경로 저장\n",
    "\n",
    "for split in (\"train\", \"val\", \"test\"):\n",
    "    for cls in (\"failure\", \"success\"):\n",
    "        dir_path = os.path.join(root, split, cls)\n",
    "        for ext in exts:\n",
    "            for path in glob.glob(os.path.join(dir_path, ext)):\n",
    "                try:\n",
    "                    with Image.open(path) as img:\n",
    "                        w, h = img.size\n",
    "                except Exception as e:\n",
    "                    print(\"읽기 오류:\", path, e)\n",
    "                    continue\n",
    "                sizes.append((w, h))\n",
    "                if min(w, h) < 224:\n",
    "                    small_files.append((path, w, h))\n",
    "\n",
    "# ───── 통계 출력 ─────\n",
    "ws, hs = zip(*sizes)\n",
    "print(f\"전체 이미지 수: {len(sizes)}\")\n",
    "print(f\"  • 최소 크기:  {min(ws)}×{min(hs)}\")\n",
    "print(f\"  • 최대 크기:  {max(ws)}×{max(hs)}\")\n",
    "print(f\"  • 224px 미만 이미지 수: {len(small_files)}\")\n",
    "\n",
    "# 해상도 빈도 상위 10개\n",
    "freq = Counter(sizes).most_common(10)\n",
    "print(\"\\n해상도 빈도 상위 10개:\")\n",
    "for (w, h), cnt in freq:\n",
    "    print(f\"  {w}×{h}: {cnt}장\")\n",
    "\n",
    "# 필요하면 작은 파일 목록 저장\n",
    "with open(\"small_images.txt\", \"w\") as f:\n",
    "    for path, w, h in small_files:\n",
    "        f.write(f\"{w}×{h}\\t{path}\\n\")\n",
    "print(\"\\nsmall_images.txt 에 224 미만 이미지 경로 저장 완료\")"
   ]
  },
  {
   "cell_type": "code",
   "execution_count": null,
   "metadata": {},
   "outputs": [],
   "source": []
  }
 ],
 "metadata": {
  "kernelspec": {
   "display_name": "Python 3",
   "language": "python",
   "name": "python3"
  },
  "language_info": {
   "codemirror_mode": {
    "name": "ipython",
    "version": 3
   },
   "file_extension": ".py",
   "mimetype": "text/x-python",
   "name": "python",
   "nbconvert_exporter": "python",
   "pygments_lexer": "ipython3",
   "version": "3.10.12"
  },
  "orig_nbformat": 4
 },
 "nbformat": 4,
 "nbformat_minor": 2
}
