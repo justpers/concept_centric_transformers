{
 "cells": [
  {
   "cell_type": "code",
   "execution_count": 10,
   "id": "9d74301b",
   "metadata": {},
   "outputs": [],
   "source": [
    "from pathlib import Path\n",
    "from collections import Counter\n",
    "from PIL import Image, ImageOps\n",
    "from tqdm import tqdm\n",
    "import sys"
   ]
  },
  {
   "cell_type": "code",
   "execution_count": 11,
   "id": "4190aae2",
   "metadata": {},
   "outputs": [],
   "source": [
    "def scan_resolutions(src_dir: Path):\n",
    "    \"\"\"src_dir 하위 PNG 파일 해상도(폭,높이) 집계 → Counter 반환\"\"\"\n",
    "    sizes = Counter()\n",
    "    for png in src_dir.rglob(\"*.png\"):\n",
    "        try:\n",
    "            with Image.open(png) as im:\n",
    "                sizes[im.size] += 1       # (width, height)\n",
    "        except Exception as e:\n",
    "            print(f\"[WARN] {png}: {e}\", file=sys.stderr)\n",
    "    return sizes"
   ]
  },
  {
   "cell_type": "code",
   "execution_count": 12,
   "id": "9be1e0df",
   "metadata": {},
   "outputs": [],
   "source": [
    "def resize_dataset(src_dir: Path, dst_dir: Path, target: int, keep_ratio=True):\n",
    "    \"\"\"\n",
    "    src_dir → dst_dir 동일 구조 유지하며 정사각형 target×target 저장\n",
    "      • keep_ratio=True  : 비율 유지 + 검은 여백 채움(Pad)\n",
    "      • keep_ratio=False : 강제 Stretch\n",
    "    \"\"\"\n",
    "    dst_dir.mkdir(parents=True, exist_ok=True)\n",
    "\n",
    "    for png in tqdm(list(src_dir.rglob(\"*.png\")), desc=\"Resizing\"):\n",
    "        rel_path = png.relative_to(src_dir)\n",
    "        save_path = dst_dir / rel_path\n",
    "        save_path.parent.mkdir(parents=True, exist_ok=True)\n",
    "\n",
    "        with Image.open(png) as im:\n",
    "            if keep_ratio:\n",
    "                im = ImageOps.pad(\n",
    "                    im, (target, target),\n",
    "                    color=(0, 0, 0),        # 여백 색상: 검정\n",
    "                    centering=(0.5, 0.5),\n",
    "                    method=Image.Resampling.LANCZOS\n",
    "                )\n",
    "            else:\n",
    "                im = im.resize((target, target), Image.Resampling.LANCZOS)\n",
    "            im.save(save_path)"
   ]
  },
  {
   "cell_type": "code",
   "execution_count": 13,
   "id": "27e75740",
   "metadata": {},
   "outputs": [],
   "source": [
    "SRC_DIR = Path('blast/split')\n",
    "DST_DIR = Path('blast/split_vit224')\n",
    "TARGET = 224"
   ]
  },
  {
   "cell_type": "code",
   "execution_count": 14,
   "id": "ac5a1e44",
   "metadata": {},
   "outputs": [
    {
     "name": "stdout",
     "output_type": "stream",
     "text": [
      "\n",
      "[해상도 분포]\n",
      "   512× 384 : 641장\n",
      "\n",
      "[2] 리사이즈 시작…\n"
     ]
    },
    {
     "name": "stderr",
     "output_type": "stream",
     "text": [
      "Resizing: 100%|██████████| 641/641 [00:11<00:00, 54.01it/s]"
     ]
    },
    {
     "name": "stdout",
     "output_type": "stream",
     "text": [
      "✅ 완료!\n"
     ]
    },
    {
     "name": "stderr",
     "output_type": "stream",
     "text": [
      "\n"
     ]
    }
   ],
   "source": [
    "res_counter = scan_resolutions(SRC_DIR)\n",
    "\n",
    "print(\"\\n[해상도 분포]\")\n",
    "for (w, h), cnt in sorted(res_counter.items(), key=lambda x: -x[1]):\n",
    "    print(f\"  {w:4d}×{h:4d} : {cnt}장\")\n",
    "\n",
    "# --- 리사이즈 필요 여부 판단 ---\n",
    "all_same_target = (\n",
    "    len(res_counter) == 1 and\n",
    "    next(iter(res_counter)).count(TARGET) == 2\n",
    ")\n",
    "\n",
    "if all_same_target:\n",
    "    print(\"\\n모든 이미지가 이미 목표 해상도입니다. 리사이즈를 건너뜁니다.\")\n",
    "else:\n",
    "    # 필요 시 yes/no 입력받기\n",
    "    proceed = input(f\"\\n{TARGET}×{TARGET} 로 리사이즈 후 {DST_DIR} 에 저장할까요? [y/N] \")\n",
    "    if proceed.lower() == \"y\":\n",
    "        print(f\"\\n[2] 리사이즈 시작…\")\n",
    "        resize_dataset(SRC_DIR, DST_DIR, TARGET, keep_ratio=True)\n",
    "        print(\"✅ 완료!\")\n",
    "    else:\n",
    "        print(\"⏩ 리사이즈를 취소했습니다.\")"
   ]
  },
  {
   "cell_type": "code",
   "execution_count": null,
   "id": "be073138",
   "metadata": {},
   "outputs": [],
   "source": []
  }
 ],
 "metadata": {
  "kernelspec": {
   "display_name": ".cct",
   "language": "python",
   "name": "python3"
  },
  "language_info": {
   "codemirror_mode": {
    "name": "ipython",
    "version": 3
   },
   "file_extension": ".py",
   "mimetype": "text/x-python",
   "name": "python",
   "nbconvert_exporter": "python",
   "pygments_lexer": "ipython3",
   "version": "3.10.11"
  }
 },
 "nbformat": 4,
 "nbformat_minor": 5
}
